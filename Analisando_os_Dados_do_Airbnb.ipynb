{
  "nbformat": 4,
  "nbformat_minor": 0,
  "metadata": {
    "colab": {
      "provenance": [],
      "include_colab_link": true
    },
    "kernelspec": {
      "name": "python3",
      "display_name": "Python 3"
    }
  },
  "cells": [
    {
      "cell_type": "markdown",
      "metadata": {
        "id": "view-in-github",
        "colab_type": "text"
      },
      "source": [
        "<a href=\"https://colab.research.google.com/github/fvillasb/analise-airbnb/blob/main/Analisando_os_Dados_do_Airbnb.ipynb\" target=\"_parent\"><img src=\"https://colab.research.google.com/assets/colab-badge.svg\" alt=\"Open In Colab\"/></a>"
      ]
    },
    {
      "cell_type": "markdown",
      "metadata": {
        "id": "kLI0gJtzDGuQ"
      },
      "source": [
        "<img alt=\"Colaboratory logo\" width=\"15%\" src=\"https://raw.githubusercontent.com/carlosfab/escola-data-science/master/img/novo_logo_bg_claro.png\">\n",
        "\n",
        "#### **Data Science na Prática 3.0**\n",
        "*by [sigmoidal.ai](https://sigmoidal.ai)*\n",
        "\n",
        "---\n",
        "\n",
        "# Análise dos Dados do Airbnb - *Malta*\n",
        "\n",
        "O [Airbnb](https://www.airbnb.com.br/) já é considerado como sendo a **maior empresa hoteleira da atualidade**. Ah, o detalhe é que ele **não possui nenhum hotel**!\n",
        "\n",
        "Conectando pessoas que querem viajar (e se hospedar) com anfitriões que querem alugar seus imóveis de maneira prática, o Airbnb fornece uma plataforma inovadora para tornar essa hospedagem alternativa.\n",
        "\n",
        "No final de 2018, a Startup fundada 10 anos atrás, já havia **hospedado mais de 300 milhões** de pessoas ao redor de todo o mundo, desafiando as redes hoteleiras tradicionais.\n",
        "\n",
        "Uma das iniciativas do Airbnb é disponibilizar dados do site, para algumas das principais cidades do mundo. Por meio do portal [Inside Airbnb](http://insideairbnb.com/get-the-data.html), é possível baixar uma grande quantidade de dados para desenvolver projetos e soluções de *Data Science*.\n",
        "\n",
        "<center><img alt=\"Analisando Airbnb\" width=\"10%\" src=\"https://www.area360.com.au/wp-content/uploads/2017/09/airbnb-logo.jpg\"></center>\n",
        "\n",
        "**Neste *notebook*, iremos analisar os dados referentes aos imóveis em Malta e ver quais insights podem ser extraídos a partir de dados brutos.**\n",
        "\n",
        "Malta é um país situado em um arquipélago no Mediterrâneo central, localizado no Sul da Europa entre a Sicília (Itália) e a costa Norte da África. "
      ]
    },
    {
      "cell_type": "markdown",
      "metadata": {
        "id": "0zxQHhIUDF_2"
      },
      "source": [
        "## Obtenção dos Dados\n"
      ]
    },
    {
      "cell_type": "code",
      "metadata": {
        "id": "Vhp2wMPgJ6zX"
      },
      "source": [
        "# importar os pacotes necessarios\n",
        "import pandas as pd\n",
        "import matplotlib.pyplot as plt\n",
        "import seaborn as sns\n",
        "\n",
        "%matplotlib inline"
      ],
      "execution_count": null,
      "outputs": []
    },
    {
      "cell_type": "code",
      "metadata": {
        "id": "tUmoAT8DLQ5T"
      },
      "source": [
        "# importar o arquivo listings.csv para um DataFrame\n",
        "df = pd.read_csv('http://data.insideairbnb.com/malta/2022-09-26/visualisations/listings.csv')"
      ],
      "execution_count": null,
      "outputs": []
    },
    {
      "cell_type": "markdown",
      "metadata": {
        "id": "qb5By2nIMS6m"
      },
      "source": [
        "## Análise dos Dados\n"
      ]
    },
    {
      "cell_type": "markdown",
      "metadata": {
        "id": "RYgvuebKNg8-"
      },
      "source": [
        "**Dicionário das variáveis**\n",
        "\n",
        "* `id` - número gerado para a identificação do imóvel;\n",
        "* `name` - nome do anúncio; \n",
        "* `host_id` - número gerado para a identificação do proprietário (anfitrião) do imóvel; \n",
        "* `host_name` - nome do anfitrião;\n",
        "* `neighbourhood_group` - não contém nenhum valor válido;\n",
        "* `neighbourhood` - bairro onde se encontra o imóvel;\n",
        "* `latitude` - coordenada da latitude do imóvel;\n",
        "* `longitude` - coordenada da longitude do imóvel;\n",
        "* `room_type` - tipo de acomodação;\n",
        "* `price` - preço de aluguel do imóvel;\n",
        "* `minimum_nights` - quantidade mínima de noites que o hóspede deverá alugar;\n",
        "* `number_of_reviews` - quantidade de avaliações que o anúncio recebeu dos clientes;\n",
        "* `last_review` - data da última avaliação;\n",
        "* `reviews_per_month` - quantidade de avaliações por mês;\n",
        "* `calculated_host_listings_count` - quantidade de imóveis oferecidos pelo mesmo anfitrião;\n",
        "* `availability_365` - quantidade de dias, no período de um ano (365 dias), em que a propriedade está disponível para ser alugada;\n",
        "* `number_of_reviews_ltm` - quantidade de avaliações nos últimos 12 meses (obs.: ltm = last twelve months);\n",
        "* `license` - não contém nenhum valor válido\n",
        "\n",
        "\\\n",
        "\n",
        "Para visualizar o anúncio no Airbnb, use a seguinte URL: https://www.airbnb.com.br/rooms/id  \n",
        "Onde id deve ser substituído pelo `id` do *dataset* associado ao anúncio.\n",
        "\n",
        "Por exemplo, o link para o anúncio *Modern apartment in amazing location , sleeps 5*, cujo id é *12522859* ficaria assim: https://www.airbnb.com.br/rooms/12522859\n",
        "\n",
        "\\\n",
        "\n",
        "Antes de iniciar qualquer análise, vamos verificar a cara do nosso *dataset*, analisando as 5 primeiras entradas.\n"
      ]
    },
    {
      "cell_type": "code",
      "metadata": {
        "id": "2iS_dae7YQtO",
        "colab": {
          "base_uri": "https://localhost:8080/",
          "height": 608
        },
        "outputId": "c7f512e7-7ad8-4a9e-a8e9-529b46a39071"
      },
      "source": [
        "# mostrar as 5 primeiras entradas\n",
        "df.head()"
      ],
      "execution_count": null,
      "outputs": [
        {
          "output_type": "execute_result",
          "data": {
            "text/plain": [
              "                   id                                              name  \\\n",
              "0  617657758083390538              Ellie Boo Bed & Breakfast: King Room   \n",
              "1            12522859  Modern apartment  in amazing location , sleeps 5   \n",
              "2            51484251                Gajdoru Valley View (shared space)   \n",
              "3            33426361   Private room in a modern apartment - quiet area   \n",
              "4            16139052                Super spacious maisonette in Rabat   \n",
              "\n",
              "     host_id    host_name  neighbourhood_group      neighbourhood  latitude  \\\n",
              "0   48483565        Ellie                  NaN            Xewkija  36.03376   \n",
              "1   46331087  Christopher                  NaN  San Pawl il-Bahar  35.94972   \n",
              "2   23139730          Sue                  NaN             Xaghra  36.05462   \n",
              "3   39800152     Jeanette                  NaN              Mosta  35.90538   \n",
              "4  105296958        Helen                  NaN      Rabat (Malta)  35.87985   \n",
              "\n",
              "   longitude        room_type  price  minimum_nights  number_of_reviews  \\\n",
              "0  14.252905     Private room     65               1                  0   \n",
              "1  14.414200  Entire home/apt    112               4                  2   \n",
              "2  14.274920     Private room     45               2                 22   \n",
              "3  14.422200     Private room     34               4                  3   \n",
              "4  14.390250  Entire home/apt     45               3                157   \n",
              "\n",
              "  last_review  reviews_per_month  calculated_host_listings_count  \\\n",
              "0         NaN                NaN                               3   \n",
              "1  2018-08-11               0.03                               1   \n",
              "2  2022-09-21               1.62                               1   \n",
              "3  2022-09-06               0.57                               4   \n",
              "4  2022-09-25               2.23                               1   \n",
              "\n",
              "   availability_365  number_of_reviews_ltm  license  \n",
              "0                64                      0      NaN  \n",
              "1               356                      0      NaN  \n",
              "2               194                     13      NaN  \n",
              "3               163                      3      NaN  \n",
              "4               306                     28      NaN  "
            ],
            "text/html": [
              "\n",
              "  <div id=\"df-90767d1c-27a7-4197-845c-f934702a3ac0\">\n",
              "    <div class=\"colab-df-container\">\n",
              "      <div>\n",
              "<style scoped>\n",
              "    .dataframe tbody tr th:only-of-type {\n",
              "        vertical-align: middle;\n",
              "    }\n",
              "\n",
              "    .dataframe tbody tr th {\n",
              "        vertical-align: top;\n",
              "    }\n",
              "\n",
              "    .dataframe thead th {\n",
              "        text-align: right;\n",
              "    }\n",
              "</style>\n",
              "<table border=\"1\" class=\"dataframe\">\n",
              "  <thead>\n",
              "    <tr style=\"text-align: right;\">\n",
              "      <th></th>\n",
              "      <th>id</th>\n",
              "      <th>name</th>\n",
              "      <th>host_id</th>\n",
              "      <th>host_name</th>\n",
              "      <th>neighbourhood_group</th>\n",
              "      <th>neighbourhood</th>\n",
              "      <th>latitude</th>\n",
              "      <th>longitude</th>\n",
              "      <th>room_type</th>\n",
              "      <th>price</th>\n",
              "      <th>minimum_nights</th>\n",
              "      <th>number_of_reviews</th>\n",
              "      <th>last_review</th>\n",
              "      <th>reviews_per_month</th>\n",
              "      <th>calculated_host_listings_count</th>\n",
              "      <th>availability_365</th>\n",
              "      <th>number_of_reviews_ltm</th>\n",
              "      <th>license</th>\n",
              "    </tr>\n",
              "  </thead>\n",
              "  <tbody>\n",
              "    <tr>\n",
              "      <th>0</th>\n",
              "      <td>617657758083390538</td>\n",
              "      <td>Ellie Boo Bed &amp; Breakfast: King Room</td>\n",
              "      <td>48483565</td>\n",
              "      <td>Ellie</td>\n",
              "      <td>NaN</td>\n",
              "      <td>Xewkija</td>\n",
              "      <td>36.03376</td>\n",
              "      <td>14.252905</td>\n",
              "      <td>Private room</td>\n",
              "      <td>65</td>\n",
              "      <td>1</td>\n",
              "      <td>0</td>\n",
              "      <td>NaN</td>\n",
              "      <td>NaN</td>\n",
              "      <td>3</td>\n",
              "      <td>64</td>\n",
              "      <td>0</td>\n",
              "      <td>NaN</td>\n",
              "    </tr>\n",
              "    <tr>\n",
              "      <th>1</th>\n",
              "      <td>12522859</td>\n",
              "      <td>Modern apartment  in amazing location , sleeps 5</td>\n",
              "      <td>46331087</td>\n",
              "      <td>Christopher</td>\n",
              "      <td>NaN</td>\n",
              "      <td>San Pawl il-Bahar</td>\n",
              "      <td>35.94972</td>\n",
              "      <td>14.414200</td>\n",
              "      <td>Entire home/apt</td>\n",
              "      <td>112</td>\n",
              "      <td>4</td>\n",
              "      <td>2</td>\n",
              "      <td>2018-08-11</td>\n",
              "      <td>0.03</td>\n",
              "      <td>1</td>\n",
              "      <td>356</td>\n",
              "      <td>0</td>\n",
              "      <td>NaN</td>\n",
              "    </tr>\n",
              "    <tr>\n",
              "      <th>2</th>\n",
              "      <td>51484251</td>\n",
              "      <td>Gajdoru Valley View (shared space)</td>\n",
              "      <td>23139730</td>\n",
              "      <td>Sue</td>\n",
              "      <td>NaN</td>\n",
              "      <td>Xaghra</td>\n",
              "      <td>36.05462</td>\n",
              "      <td>14.274920</td>\n",
              "      <td>Private room</td>\n",
              "      <td>45</td>\n",
              "      <td>2</td>\n",
              "      <td>22</td>\n",
              "      <td>2022-09-21</td>\n",
              "      <td>1.62</td>\n",
              "      <td>1</td>\n",
              "      <td>194</td>\n",
              "      <td>13</td>\n",
              "      <td>NaN</td>\n",
              "    </tr>\n",
              "    <tr>\n",
              "      <th>3</th>\n",
              "      <td>33426361</td>\n",
              "      <td>Private room in a modern apartment - quiet area</td>\n",
              "      <td>39800152</td>\n",
              "      <td>Jeanette</td>\n",
              "      <td>NaN</td>\n",
              "      <td>Mosta</td>\n",
              "      <td>35.90538</td>\n",
              "      <td>14.422200</td>\n",
              "      <td>Private room</td>\n",
              "      <td>34</td>\n",
              "      <td>4</td>\n",
              "      <td>3</td>\n",
              "      <td>2022-09-06</td>\n",
              "      <td>0.57</td>\n",
              "      <td>4</td>\n",
              "      <td>163</td>\n",
              "      <td>3</td>\n",
              "      <td>NaN</td>\n",
              "    </tr>\n",
              "    <tr>\n",
              "      <th>4</th>\n",
              "      <td>16139052</td>\n",
              "      <td>Super spacious maisonette in Rabat</td>\n",
              "      <td>105296958</td>\n",
              "      <td>Helen</td>\n",
              "      <td>NaN</td>\n",
              "      <td>Rabat (Malta)</td>\n",
              "      <td>35.87985</td>\n",
              "      <td>14.390250</td>\n",
              "      <td>Entire home/apt</td>\n",
              "      <td>45</td>\n",
              "      <td>3</td>\n",
              "      <td>157</td>\n",
              "      <td>2022-09-25</td>\n",
              "      <td>2.23</td>\n",
              "      <td>1</td>\n",
              "      <td>306</td>\n",
              "      <td>28</td>\n",
              "      <td>NaN</td>\n",
              "    </tr>\n",
              "  </tbody>\n",
              "</table>\n",
              "</div>\n",
              "      <button class=\"colab-df-convert\" onclick=\"convertToInteractive('df-90767d1c-27a7-4197-845c-f934702a3ac0')\"\n",
              "              title=\"Convert this dataframe to an interactive table.\"\n",
              "              style=\"display:none;\">\n",
              "        \n",
              "  <svg xmlns=\"http://www.w3.org/2000/svg\" height=\"24px\"viewBox=\"0 0 24 24\"\n",
              "       width=\"24px\">\n",
              "    <path d=\"M0 0h24v24H0V0z\" fill=\"none\"/>\n",
              "    <path d=\"M18.56 5.44l.94 2.06.94-2.06 2.06-.94-2.06-.94-.94-2.06-.94 2.06-2.06.94zm-11 1L8.5 8.5l.94-2.06 2.06-.94-2.06-.94L8.5 2.5l-.94 2.06-2.06.94zm10 10l.94 2.06.94-2.06 2.06-.94-2.06-.94-.94-2.06-.94 2.06-2.06.94z\"/><path d=\"M17.41 7.96l-1.37-1.37c-.4-.4-.92-.59-1.43-.59-.52 0-1.04.2-1.43.59L10.3 9.45l-7.72 7.72c-.78.78-.78 2.05 0 2.83L4 21.41c.39.39.9.59 1.41.59.51 0 1.02-.2 1.41-.59l7.78-7.78 2.81-2.81c.8-.78.8-2.07 0-2.86zM5.41 20L4 18.59l7.72-7.72 1.47 1.35L5.41 20z\"/>\n",
              "  </svg>\n",
              "      </button>\n",
              "      \n",
              "  <style>\n",
              "    .colab-df-container {\n",
              "      display:flex;\n",
              "      flex-wrap:wrap;\n",
              "      gap: 12px;\n",
              "    }\n",
              "\n",
              "    .colab-df-convert {\n",
              "      background-color: #E8F0FE;\n",
              "      border: none;\n",
              "      border-radius: 50%;\n",
              "      cursor: pointer;\n",
              "      display: none;\n",
              "      fill: #1967D2;\n",
              "      height: 32px;\n",
              "      padding: 0 0 0 0;\n",
              "      width: 32px;\n",
              "    }\n",
              "\n",
              "    .colab-df-convert:hover {\n",
              "      background-color: #E2EBFA;\n",
              "      box-shadow: 0px 1px 2px rgba(60, 64, 67, 0.3), 0px 1px 3px 1px rgba(60, 64, 67, 0.15);\n",
              "      fill: #174EA6;\n",
              "    }\n",
              "\n",
              "    [theme=dark] .colab-df-convert {\n",
              "      background-color: #3B4455;\n",
              "      fill: #D2E3FC;\n",
              "    }\n",
              "\n",
              "    [theme=dark] .colab-df-convert:hover {\n",
              "      background-color: #434B5C;\n",
              "      box-shadow: 0px 1px 3px 1px rgba(0, 0, 0, 0.15);\n",
              "      filter: drop-shadow(0px 1px 2px rgba(0, 0, 0, 0.3));\n",
              "      fill: #FFFFFF;\n",
              "    }\n",
              "  </style>\n",
              "\n",
              "      <script>\n",
              "        const buttonEl =\n",
              "          document.querySelector('#df-90767d1c-27a7-4197-845c-f934702a3ac0 button.colab-df-convert');\n",
              "        buttonEl.style.display =\n",
              "          google.colab.kernel.accessAllowed ? 'block' : 'none';\n",
              "\n",
              "        async function convertToInteractive(key) {\n",
              "          const element = document.querySelector('#df-90767d1c-27a7-4197-845c-f934702a3ac0');\n",
              "          const dataTable =\n",
              "            await google.colab.kernel.invokeFunction('convertToInteractive',\n",
              "                                                     [key], {});\n",
              "          if (!dataTable) return;\n",
              "\n",
              "          const docLinkHtml = 'Like what you see? Visit the ' +\n",
              "            '<a target=\"_blank\" href=https://colab.research.google.com/notebooks/data_table.ipynb>data table notebook</a>'\n",
              "            + ' to learn more about interactive tables.';\n",
              "          element.innerHTML = '';\n",
              "          dataTable['output_type'] = 'display_data';\n",
              "          await google.colab.output.renderOutput(dataTable, element);\n",
              "          const docLink = document.createElement('div');\n",
              "          docLink.innerHTML = docLinkHtml;\n",
              "          element.appendChild(docLink);\n",
              "        }\n",
              "      </script>\n",
              "    </div>\n",
              "  </div>\n",
              "  "
            ]
          },
          "metadata": {},
          "execution_count": 3
        }
      ]
    },
    {
      "cell_type": "markdown",
      "metadata": {
        "id": "6-B_qtEaYEd-"
      },
      "source": [
        "### **Q1. Quantos atributos (variáveis) e quantas entradas o nosso conjunto de dados possui? Quais os tipos das variáveis?**"
      ]
    },
    {
      "cell_type": "code",
      "metadata": {
        "id": "TFRK0tniLV-G",
        "colab": {
          "base_uri": "https://localhost:8080/",
          "height": 391
        },
        "outputId": "6502af5d-b313-4ac3-bb5c-f49d357a18c5"
      },
      "source": [
        "# identificar o volume de dados do DataFrame\n",
        "print(\"Quantidade de entradas do DataFrame: {}\".format(df.shape[0]))\n",
        "print(\"Quantidade de variáveis do DataFrame: {} \\n\".format(df.shape[1]))\n",
        "\n",
        "# verificar os tipos de variáveis\n",
        "display(df.dtypes)"
      ],
      "execution_count": null,
      "outputs": [
        {
          "output_type": "stream",
          "name": "stdout",
          "text": [
            "Quantidade de entradas do DataFrame: 8505\n",
            "Quantidade de variáveis do DataFrame: 18 \n",
            "\n"
          ]
        },
        {
          "output_type": "display_data",
          "data": {
            "text/plain": [
              "id                                  int64\n",
              "name                               object\n",
              "host_id                             int64\n",
              "host_name                          object\n",
              "neighbourhood_group               float64\n",
              "neighbourhood                      object\n",
              "latitude                          float64\n",
              "longitude                         float64\n",
              "room_type                          object\n",
              "price                               int64\n",
              "minimum_nights                      int64\n",
              "number_of_reviews                   int64\n",
              "last_review                        object\n",
              "reviews_per_month                 float64\n",
              "calculated_host_listings_count      int64\n",
              "availability_365                    int64\n",
              "number_of_reviews_ltm               int64\n",
              "license                           float64\n",
              "dtype: object"
            ]
          },
          "metadata": {}
        }
      ]
    },
    {
      "cell_type": "markdown",
      "metadata": {
        "id": "yz1urSUGW9iE"
      },
      "source": [
        "### **Q2. Qual a porcentagem de valores ausentes no *dataset*?**"
      ]
    },
    {
      "cell_type": "code",
      "metadata": {
        "id": "plk2FjbCXOqP",
        "colab": {
          "base_uri": "https://localhost:8080/"
        },
        "outputId": "bf68826f-f968-4fe9-a946-7a7551c0e5af"
      },
      "source": [
        "# ordenar em ordem decrescente as variáveis por seus valores ausentes\n",
        "(df.isnull().sum() / df.shape[0]).sort_values(ascending=False)"
      ],
      "execution_count": null,
      "outputs": [
        {
          "output_type": "execute_result",
          "data": {
            "text/plain": [
              "license                           1.000000\n",
              "neighbourhood_group               1.000000\n",
              "reviews_per_month                 0.172722\n",
              "last_review                       0.172722\n",
              "minimum_nights                    0.000000\n",
              "number_of_reviews_ltm             0.000000\n",
              "availability_365                  0.000000\n",
              "calculated_host_listings_count    0.000000\n",
              "number_of_reviews                 0.000000\n",
              "id                                0.000000\n",
              "name                              0.000000\n",
              "room_type                         0.000000\n",
              "longitude                         0.000000\n",
              "latitude                          0.000000\n",
              "neighbourhood                     0.000000\n",
              "host_name                         0.000000\n",
              "host_id                           0.000000\n",
              "price                             0.000000\n",
              "dtype: float64"
            ]
          },
          "metadata": {},
          "execution_count": 6
        }
      ]
    },
    {
      "cell_type": "markdown",
      "metadata": {
        "id": "iHXvvHIxaoNc"
      },
      "source": [
        "### **Q3. Qual o tipo de distribuição das variáveis?** "
      ]
    },
    {
      "cell_type": "code",
      "metadata": {
        "id": "q2wWSfeRbmBo",
        "colab": {
          "base_uri": "https://localhost:8080/",
          "height": 607
        },
        "outputId": "4ec83310-5c03-4cbf-a9bd-c31beebee07f"
      },
      "source": [
        "# plotar o histograma das variáveis numéricas\n",
        "df.hist(bins=15, figsize=(15,10));"
      ],
      "execution_count": null,
      "outputs": [
        {
          "output_type": "display_data",
          "data": {
            "text/plain": [
              "<Figure size 1080x720 with 16 Axes>"
            ],
            "image/png": "[encoded data removed]"
          },
          "metadata": {
            "needs_background": "light"
          }
        }
      ]
    },
    {
      "cell_type": "markdown",
      "source": [
        "### **Limpeza de Dados - Outliers e Valores Ausentes**\n",
        "\n",
        "Ao analisar a porcentagem de valores ausentes no dataset e o histograma, podemos concluir:\n",
        "*  Não há nenhum valor de entrada válido para `neighbourhood_group` e `license`;\n",
        "*  Notam-se sinais da presença de *outliers* em `price`, `minimum_nights`, `number_of_reviews`, `calculated_host_listings_count` e `number_of_reviews_ltm`, tendo em vista que os valores não seguem uma distribuição e distorcem a representação gráfica.\n",
        "\n",
        "\\\n",
        "#### **Aprofundamento da Análise dos Possíveis Outliers**\n",
        "Resumo estatístico por meio do método `describe()` para avaliarmos as variáveis que apresentaram sinais da presença de *outliers* \n",
        "\n"
      ],
      "metadata": {
        "id": "HHOmaQj6lXr5"
      }
    },
    {
      "cell_type": "code",
      "source": [
        "# ver o resumo estatístico das variáveis\n",
        "df[['price', 'minimum_nights', 'number_of_reviews', 'calculated_host_listings_count', 'number_of_reviews_ltm']].describe()"
      ],
      "metadata": {
        "colab": {
          "base_uri": "https://localhost:8080/",
          "height": 297
        },
        "id": "odwcVAR7rN5b",
        "outputId": "02ea0830-d529-4051-cb76-16ad61747ce9"
      },
      "execution_count": null,
      "outputs": [
        {
          "output_type": "execute_result",
          "data": {
            "text/plain": [
              "             price  minimum_nights  number_of_reviews  \\\n",
              "count  8505.000000     8505.000000        8505.000000   \n",
              "mean    114.257848        4.471605          23.018225   \n",
              "std     128.433200       25.320730          39.978049   \n",
              "min       9.000000        1.000000           0.000000   \n",
              "25%      55.000000        1.000000           1.000000   \n",
              "50%      84.000000        3.000000           7.000000   \n",
              "75%     129.000000        3.000000          26.000000   \n",
              "max    5000.000000      999.000000         480.000000   \n",
              "\n",
              "       calculated_host_listings_count  number_of_reviews_ltm  \n",
              "count                     8505.000000            8505.000000  \n",
              "mean                        23.523457               7.045973  \n",
              "std                         56.797119              10.101024  \n",
              "min                          1.000000               0.000000  \n",
              "25%                          1.000000               0.000000  \n",
              "50%                          4.000000               3.000000  \n",
              "75%                         13.000000              10.000000  \n",
              "max                        282.000000             148.000000  "
            ],
            "text/html": [
              "\n",
              "  <div id=\"df-c3999972-9032-4f2b-8c5e-ebe71007a186\">\n",
              "    <div class=\"colab-df-container\">\n",
              "      <div>\n",
              "<style scoped>\n",
              "    .dataframe tbody tr th:only-of-type {\n",
              "        vertical-align: middle;\n",
              "    }\n",
              "\n",
              "    .dataframe tbody tr th {\n",
              "        vertical-align: top;\n",
              "    }\n",
              "\n",
              "    .dataframe thead th {\n",
              "        text-align: right;\n",
              "    }\n",
              "</style>\n",
              "<table border=\"1\" class=\"dataframe\">\n",
              "  <thead>\n",
              "    <tr style=\"text-align: right;\">\n",
              "      <th></th>\n",
              "      <th>price</th>\n",
              "      <th>minimum_nights</th>\n",
              "      <th>number_of_reviews</th>\n",
              "      <th>calculated_host_listings_count</th>\n",
              "      <th>number_of_reviews_ltm</th>\n",
              "    </tr>\n",
              "  </thead>\n",
              "  <tbody>\n",
              "    <tr>\n",
              "      <th>count</th>\n",
              "      <td>8505.000000</td>\n",
              "      <td>8505.000000</td>\n",
              "      <td>8505.000000</td>\n",
              "      <td>8505.000000</td>\n",
              "      <td>8505.000000</td>\n",
              "    </tr>\n",
              "    <tr>\n",
              "      <th>mean</th>\n",
              "      <td>114.257848</td>\n",
              "      <td>4.471605</td>\n",
              "      <td>23.018225</td>\n",
              "      <td>23.523457</td>\n",
              "      <td>7.045973</td>\n",
              "    </tr>\n",
              "    <tr>\n",
              "      <th>std</th>\n",
              "      <td>128.433200</td>\n",
              "      <td>25.320730</td>\n",
              "      <td>39.978049</td>\n",
              "      <td>56.797119</td>\n",
              "      <td>10.101024</td>\n",
              "    </tr>\n",
              "    <tr>\n",
              "      <th>min</th>\n",
              "      <td>9.000000</td>\n",
              "      <td>1.000000</td>\n",
              "      <td>0.000000</td>\n",
              "      <td>1.000000</td>\n",
              "      <td>0.000000</td>\n",
              "    </tr>\n",
              "    <tr>\n",
              "      <th>25%</th>\n",
              "      <td>55.000000</td>\n",
              "      <td>1.000000</td>\n",
              "      <td>1.000000</td>\n",
              "      <td>1.000000</td>\n",
              "      <td>0.000000</td>\n",
              "    </tr>\n",
              "    <tr>\n",
              "      <th>50%</th>\n",
              "      <td>84.000000</td>\n",
              "      <td>3.000000</td>\n",
              "      <td>7.000000</td>\n",
              "      <td>4.000000</td>\n",
              "      <td>3.000000</td>\n",
              "    </tr>\n",
              "    <tr>\n",
              "      <th>75%</th>\n",
              "      <td>129.000000</td>\n",
              "      <td>3.000000</td>\n",
              "      <td>26.000000</td>\n",
              "      <td>13.000000</td>\n",
              "      <td>10.000000</td>\n",
              "    </tr>\n",
              "    <tr>\n",
              "      <th>max</th>\n",
              "      <td>5000.000000</td>\n",
              "      <td>999.000000</td>\n",
              "      <td>480.000000</td>\n",
              "      <td>282.000000</td>\n",
              "      <td>148.000000</td>\n",
              "    </tr>\n",
              "  </tbody>\n",
              "</table>\n",
              "</div>\n",
              "      <button class=\"colab-df-convert\" onclick=\"convertToInteractive('df-c3999972-9032-4f2b-8c5e-ebe71007a186')\"\n",
              "              title=\"Convert this dataframe to an interactive table.\"\n",
              "              style=\"display:none;\">\n",
              "        \n",
              "  <svg xmlns=\"http://www.w3.org/2000/svg\" height=\"24px\"viewBox=\"0 0 24 24\"\n",
              "       width=\"24px\">\n",
              "    <path d=\"M0 0h24v24H0V0z\" fill=\"none\"/>\n",
              "    <path d=\"M18.56 5.44l.94 2.06.94-2.06 2.06-.94-2.06-.94-.94-2.06-.94 2.06-2.06.94zm-11 1L8.5 8.5l.94-2.06 2.06-.94-2.06-.94L8.5 2.5l-.94 2.06-2.06.94zm10 10l.94 2.06.94-2.06 2.06-.94-2.06-.94-.94-2.06-.94 2.06-2.06.94z\"/><path d=\"M17.41 7.96l-1.37-1.37c-.4-.4-.92-.59-1.43-.59-.52 0-1.04.2-1.43.59L10.3 9.45l-7.72 7.72c-.78.78-.78 2.05 0 2.83L4 21.41c.39.39.9.59 1.41.59.51 0 1.02-.2 1.41-.59l7.78-7.78 2.81-2.81c.8-.78.8-2.07 0-2.86zM5.41 20L4 18.59l7.72-7.72 1.47 1.35L5.41 20z\"/>\n",
              "  </svg>\n",
              "      </button>\n",
              "      \n",
              "  <style>\n",
              "    .colab-df-container {\n",
              "      display:flex;\n",
              "      flex-wrap:wrap;\n",
              "      gap: 12px;\n",
              "    }\n",
              "\n",
              "    .colab-df-convert {\n",
              "      background-color: #E8F0FE;\n",
              "      border: none;\n",
              "      border-radius: 50%;\n",
              "      cursor: pointer;\n",
              "      display: none;\n",
              "      fill: #1967D2;\n",
              "      height: 32px;\n",
              "      padding: 0 0 0 0;\n",
              "      width: 32px;\n",
              "    }\n",
              "\n",
              "    .colab-df-convert:hover {\n",
              "      background-color: #E2EBFA;\n",
              "      box-shadow: 0px 1px 2px rgba(60, 64, 67, 0.3), 0px 1px 3px 1px rgba(60, 64, 67, 0.15);\n",
              "      fill: #174EA6;\n",
              "    }\n",
              "\n",
              "    [theme=dark] .colab-df-convert {\n",
              "      background-color: #3B4455;\n",
              "      fill: #D2E3FC;\n",
              "    }\n",
              "\n",
              "    [theme=dark] .colab-df-convert:hover {\n",
              "      background-color: #434B5C;\n",
              "      box-shadow: 0px 1px 3px 1px rgba(0, 0, 0, 0.15);\n",
              "      filter: drop-shadow(0px 1px 2px rgba(0, 0, 0, 0.3));\n",
              "      fill: #FFFFFF;\n",
              "    }\n",
              "  </style>\n",
              "\n",
              "      <script>\n",
              "        const buttonEl =\n",
              "          document.querySelector('#df-c3999972-9032-4f2b-8c5e-ebe71007a186 button.colab-df-convert');\n",
              "        buttonEl.style.display =\n",
              "          google.colab.kernel.accessAllowed ? 'block' : 'none';\n",
              "\n",
              "        async function convertToInteractive(key) {\n",
              "          const element = document.querySelector('#df-c3999972-9032-4f2b-8c5e-ebe71007a186');\n",
              "          const dataTable =\n",
              "            await google.colab.kernel.invokeFunction('convertToInteractive',\n",
              "                                                     [key], {});\n",
              "          if (!dataTable) return;\n",
              "\n",
              "          const docLinkHtml = 'Like what you see? Visit the ' +\n",
              "            '<a target=\"_blank\" href=https://colab.research.google.com/notebooks/data_table.ipynb>data table notebook</a>'\n",
              "            + ' to learn more about interactive tables.';\n",
              "          element.innerHTML = '';\n",
              "          dataTable['output_type'] = 'display_data';\n",
              "          await google.colab.output.renderOutput(dataTable, element);\n",
              "          const docLink = document.createElement('div');\n",
              "          docLink.innerHTML = docLinkHtml;\n",
              "          element.appendChild(docLink);\n",
              "        }\n",
              "      </script>\n",
              "    </div>\n",
              "  </div>\n",
              "  "
            ]
          },
          "metadata": {},
          "execution_count": 14
        }
      ]
    },
    {
      "cell_type": "markdown",
      "source": [
        "O resumo estatístico acima nos leva a confirmar as seguintes hipóteses:\n",
        "*  `price` possui 75% dos valores abaixo de 129.00, no entanto, seu valor máximo é 5000.00;\n",
        "*  O valor máximo da quantidade mínima de noites (`minimum_nights`) é maior que a quantidade de dias disponíveis no ano (365 dias);\n",
        "*  `number_of_reviews`, `calculated_host_listings_count` e `number_of_reviews_ltm` possuem valores máximos muito superior que 75% das entradas registradas nestas variáveis. Contudo, essa hipótese será ignorada tendo em vista que estas variáveis não são relevantes para as análises que serão feitas na sequência.\n",
        "\n",
        "\\\n",
        "#### **Limpeza dos Dados Ausentes**\n",
        "Pelo fato de que não há nenhum valor de entrada válido para `neighbourhood_group` e `license`, as colunas serão removidas do dataset.\n",
        "\n",
        "\n"
      ],
      "metadata": {
        "id": "p7tDaswMtmg2"
      }
    },
    {
      "cell_type": "code",
      "source": [
        "# Fazer uma cópia do DataFrame \n",
        "df_clean = df.copy()\n",
        "\n",
        "# Remover as colunas com dados faltantes\n",
        "df_clean.drop(columns=['neighbourhood_group', 'license'], inplace=True)\n",
        "\n",
        "# Conferir o novo DataFrame\n",
        "df_clean.head()"
      ],
      "metadata": {
        "colab": {
          "base_uri": "https://localhost:8080/",
          "height": 608
        },
        "id": "Q0JxhcP6zu40",
        "outputId": "849d60b5-faab-49d3-962a-63ff0dde65cc"
      },
      "execution_count": null,
      "outputs": [
        {
          "output_type": "execute_result",
          "data": {
            "text/plain": [
              "                   id                                              name  \\\n",
              "0  617657758083390538              Ellie Boo Bed & Breakfast: King Room   \n",
              "1            12522859  Modern apartment  in amazing location , sleeps 5   \n",
              "2            51484251                Gajdoru Valley View (shared space)   \n",
              "3            33426361   Private room in a modern apartment - quiet area   \n",
              "4            16139052                Super spacious maisonette in Rabat   \n",
              "\n",
              "     host_id    host_name      neighbourhood  latitude  longitude  \\\n",
              "0   48483565        Ellie            Xewkija  36.03376  14.252905   \n",
              "1   46331087  Christopher  San Pawl il-Bahar  35.94972  14.414200   \n",
              "2   23139730          Sue             Xaghra  36.05462  14.274920   \n",
              "3   39800152     Jeanette              Mosta  35.90538  14.422200   \n",
              "4  105296958        Helen      Rabat (Malta)  35.87985  14.390250   \n",
              "\n",
              "         room_type  price  minimum_nights  number_of_reviews last_review  \\\n",
              "0     Private room     65               1                  0         NaN   \n",
              "1  Entire home/apt    112               4                  2  2018-08-11   \n",
              "2     Private room     45               2                 22  2022-09-21   \n",
              "3     Private room     34               4                  3  2022-09-06   \n",
              "4  Entire home/apt     45               3                157  2022-09-25   \n",
              "\n",
              "   reviews_per_month  calculated_host_listings_count  availability_365  \\\n",
              "0                NaN                               3                64   \n",
              "1               0.03                               1               356   \n",
              "2               1.62                               1               194   \n",
              "3               0.57                               4               163   \n",
              "4               2.23                               1               306   \n",
              "\n",
              "   number_of_reviews_ltm  \n",
              "0                      0  \n",
              "1                      0  \n",
              "2                     13  \n",
              "3                      3  \n",
              "4                     28  "
            ],
            "text/html": [
              "\n",
              "  <div id=\"df-a30f4d76-8431-4790-aa5d-369bdcb06d4a\">\n",
              "    <div class=\"colab-df-container\">\n",
              "      <div>\n",
              "<style scoped>\n",
              "    .dataframe tbody tr th:only-of-type {\n",
              "        vertical-align: middle;\n",
              "    }\n",
              "\n",
              "    .dataframe tbody tr th {\n",
              "        vertical-align: top;\n",
              "    }\n",
              "\n",
              "    .dataframe thead th {\n",
              "        text-align: right;\n",
              "    }\n",
              "</style>\n",
              "<table border=\"1\" class=\"dataframe\">\n",
              "  <thead>\n",
              "    <tr style=\"text-align: right;\">\n",
              "      <th></th>\n",
              "      <th>id</th>\n",
              "      <th>name</th>\n",
              "      <th>host_id</th>\n",
              "      <th>host_name</th>\n",
              "      <th>neighbourhood</th>\n",
              "      <th>latitude</th>\n",
              "      <th>longitude</th>\n",
              "      <th>room_type</th>\n",
              "      <th>price</th>\n",
              "      <th>minimum_nights</th>\n",
              "      <th>number_of_reviews</th>\n",
              "      <th>last_review</th>\n",
              "      <th>reviews_per_month</th>\n",
              "      <th>calculated_host_listings_count</th>\n",
              "      <th>availability_365</th>\n",
              "      <th>number_of_reviews_ltm</th>\n",
              "    </tr>\n",
              "  </thead>\n",
              "  <tbody>\n",
              "    <tr>\n",
              "      <th>0</th>\n",
              "      <td>617657758083390538</td>\n",
              "      <td>Ellie Boo Bed &amp; Breakfast: King Room</td>\n",
              "      <td>48483565</td>\n",
              "      <td>Ellie</td>\n",
              "      <td>Xewkija</td>\n",
              "      <td>36.03376</td>\n",
              "      <td>14.252905</td>\n",
              "      <td>Private room</td>\n",
              "      <td>65</td>\n",
              "      <td>1</td>\n",
              "      <td>0</td>\n",
              "      <td>NaN</td>\n",
              "      <td>NaN</td>\n",
              "      <td>3</td>\n",
              "      <td>64</td>\n",
              "      <td>0</td>\n",
              "    </tr>\n",
              "    <tr>\n",
              "      <th>1</th>\n",
              "      <td>12522859</td>\n",
              "      <td>Modern apartment  in amazing location , sleeps 5</td>\n",
              "      <td>46331087</td>\n",
              "      <td>Christopher</td>\n",
              "      <td>San Pawl il-Bahar</td>\n",
              "      <td>35.94972</td>\n",
              "      <td>14.414200</td>\n",
              "      <td>Entire home/apt</td>\n",
              "      <td>112</td>\n",
              "      <td>4</td>\n",
              "      <td>2</td>\n",
              "      <td>2018-08-11</td>\n",
              "      <td>0.03</td>\n",
              "      <td>1</td>\n",
              "      <td>356</td>\n",
              "      <td>0</td>\n",
              "    </tr>\n",
              "    <tr>\n",
              "      <th>2</th>\n",
              "      <td>51484251</td>\n",
              "      <td>Gajdoru Valley View (shared space)</td>\n",
              "      <td>23139730</td>\n",
              "      <td>Sue</td>\n",
              "      <td>Xaghra</td>\n",
              "      <td>36.05462</td>\n",
              "      <td>14.274920</td>\n",
              "      <td>Private room</td>\n",
              "      <td>45</td>\n",
              "      <td>2</td>\n",
              "      <td>22</td>\n",
              "      <td>2022-09-21</td>\n",
              "      <td>1.62</td>\n",
              "      <td>1</td>\n",
              "      <td>194</td>\n",
              "      <td>13</td>\n",
              "    </tr>\n",
              "    <tr>\n",
              "      <th>3</th>\n",
              "      <td>33426361</td>\n",
              "      <td>Private room in a modern apartment - quiet area</td>\n",
              "      <td>39800152</td>\n",
              "      <td>Jeanette</td>\n",
              "      <td>Mosta</td>\n",
              "      <td>35.90538</td>\n",
              "      <td>14.422200</td>\n",
              "      <td>Private room</td>\n",
              "      <td>34</td>\n",
              "      <td>4</td>\n",
              "      <td>3</td>\n",
              "      <td>2022-09-06</td>\n",
              "      <td>0.57</td>\n",
              "      <td>4</td>\n",
              "      <td>163</td>\n",
              "      <td>3</td>\n",
              "    </tr>\n",
              "    <tr>\n",
              "      <th>4</th>\n",
              "      <td>16139052</td>\n",
              "      <td>Super spacious maisonette in Rabat</td>\n",
              "      <td>105296958</td>\n",
              "      <td>Helen</td>\n",
              "      <td>Rabat (Malta)</td>\n",
              "      <td>35.87985</td>\n",
              "      <td>14.390250</td>\n",
              "      <td>Entire home/apt</td>\n",
              "      <td>45</td>\n",
              "      <td>3</td>\n",
              "      <td>157</td>\n",
              "      <td>2022-09-25</td>\n",
              "      <td>2.23</td>\n",
              "      <td>1</td>\n",
              "      <td>306</td>\n",
              "      <td>28</td>\n",
              "    </tr>\n",
              "  </tbody>\n",
              "</table>\n",
              "</div>\n",
              "      <button class=\"colab-df-convert\" onclick=\"convertToInteractive('df-a30f4d76-8431-4790-aa5d-369bdcb06d4a')\"\n",
              "              title=\"Convert this dataframe to an interactive table.\"\n",
              "              style=\"display:none;\">\n",
              "        \n",
              "  <svg xmlns=\"http://www.w3.org/2000/svg\" height=\"24px\"viewBox=\"0 0 24 24\"\n",
              "       width=\"24px\">\n",
              "    <path d=\"M0 0h24v24H0V0z\" fill=\"none\"/>\n",
              "    <path d=\"M18.56 5.44l.94 2.06.94-2.06 2.06-.94-2.06-.94-.94-2.06-.94 2.06-2.06.94zm-11 1L8.5 8.5l.94-2.06 2.06-.94-2.06-.94L8.5 2.5l-.94 2.06-2.06.94zm10 10l.94 2.06.94-2.06 2.06-.94-2.06-.94-.94-2.06-.94 2.06-2.06.94z\"/><path d=\"M17.41 7.96l-1.37-1.37c-.4-.4-.92-.59-1.43-.59-.52 0-1.04.2-1.43.59L10.3 9.45l-7.72 7.72c-.78.78-.78 2.05 0 2.83L4 21.41c.39.39.9.59 1.41.59.51 0 1.02-.2 1.41-.59l7.78-7.78 2.81-2.81c.8-.78.8-2.07 0-2.86zM5.41 20L4 18.59l7.72-7.72 1.47 1.35L5.41 20z\"/>\n",
              "  </svg>\n",
              "      </button>\n",
              "      \n",
              "  <style>\n",
              "    .colab-df-container {\n",
              "      display:flex;\n",
              "      flex-wrap:wrap;\n",
              "      gap: 12px;\n",
              "    }\n",
              "\n",
              "    .colab-df-convert {\n",
              "      background-color: #E8F0FE;\n",
              "      border: none;\n",
              "      border-radius: 50%;\n",
              "      cursor: pointer;\n",
              "      display: none;\n",
              "      fill: #1967D2;\n",
              "      height: 32px;\n",
              "      padding: 0 0 0 0;\n",
              "      width: 32px;\n",
              "    }\n",
              "\n",
              "    .colab-df-convert:hover {\n",
              "      background-color: #E2EBFA;\n",
              "      box-shadow: 0px 1px 2px rgba(60, 64, 67, 0.3), 0px 1px 3px 1px rgba(60, 64, 67, 0.15);\n",
              "      fill: #174EA6;\n",
              "    }\n",
              "\n",
              "    [theme=dark] .colab-df-convert {\n",
              "      background-color: #3B4455;\n",
              "      fill: #D2E3FC;\n",
              "    }\n",
              "\n",
              "    [theme=dark] .colab-df-convert:hover {\n",
              "      background-color: #434B5C;\n",
              "      box-shadow: 0px 1px 3px 1px rgba(0, 0, 0, 0.15);\n",
              "      filter: drop-shadow(0px 1px 2px rgba(0, 0, 0, 0.3));\n",
              "      fill: #FFFFFF;\n",
              "    }\n",
              "  </style>\n",
              "\n",
              "      <script>\n",
              "        const buttonEl =\n",
              "          document.querySelector('#df-a30f4d76-8431-4790-aa5d-369bdcb06d4a button.colab-df-convert');\n",
              "        buttonEl.style.display =\n",
              "          google.colab.kernel.accessAllowed ? 'block' : 'none';\n",
              "\n",
              "        async function convertToInteractive(key) {\n",
              "          const element = document.querySelector('#df-a30f4d76-8431-4790-aa5d-369bdcb06d4a');\n",
              "          const dataTable =\n",
              "            await google.colab.kernel.invokeFunction('convertToInteractive',\n",
              "                                                     [key], {});\n",
              "          if (!dataTable) return;\n",
              "\n",
              "          const docLinkHtml = 'Like what you see? Visit the ' +\n",
              "            '<a target=\"_blank\" href=https://colab.research.google.com/notebooks/data_table.ipynb>data table notebook</a>'\n",
              "            + ' to learn more about interactive tables.';\n",
              "          element.innerHTML = '';\n",
              "          dataTable['output_type'] = 'display_data';\n",
              "          await google.colab.output.renderOutput(dataTable, element);\n",
              "          const docLink = document.createElement('div');\n",
              "          docLink.innerHTML = docLinkHtml;\n",
              "          element.appendChild(docLink);\n",
              "        }\n",
              "      </script>\n",
              "    </div>\n",
              "  </div>\n",
              "  "
            ]
          },
          "metadata": {},
          "execution_count": 3
        }
      ]
    },
    {
      "cell_type": "markdown",
      "source": [
        "#### Limpeza dos *Outliers*\n",
        "\n",
        "Para tratar dos outliers desse conjunto de dados, calcularemos os limites utilizando a regra do IQR Score e executaremos as etapas listadas abaixo.\n",
        "\n",
        "* Definir o Q1 e Q3 para as variáveis que serão limpas.\n",
        "* Calcular o IQR para as variáveis.\n",
        "* Definir o limite superior e inferior para cortar os outliers.\n",
        "* Plotar um boxplot para avaliar o impacto da limpeza no DataSet original\n",
        "* Remover os outliers.\n",
        "\n",
        "O IQR é calculado por meio da subtração do Terceiro Quartil (75%) pelo Primeiro Quartil (25%) obtidos no resumo estatístico. \n",
        "\n",
        "# IQR = Q3 - Q1\n",
        "\n",
        "\n",
        "\n"
      ],
      "metadata": {
        "id": "7h1jJ1YawfNj"
      }
    },
    {
      "cell_type": "markdown",
      "source": [
        "##### **Limpeza da Variável `price`**  "
      ],
      "metadata": {
        "id": "PklDp2kA1jRV"
      }
    },
    {
      "cell_type": "code",
      "source": [
        "# identificando os outliers para a variável price\n",
        "q1_price = df_clean.price.quantile(.25)\n",
        "q3_price = df_clean.price.quantile(.75)\n",
        "IQR_price = q3_price - q1_price\n",
        "print('IQR da variável price: ', IQR_price)\n",
        "\n",
        "# definindo os limites                                       \n",
        "sup_price = q3_price + 1.5 * IQR_price\n",
        "inf_price = q1_price - 1.5 * IQR_price\n",
        "\n",
        "print('Limite superior do price: ', sup_price)\n",
        "print('Limite inferior do price: ', inf_price)"
      ],
      "metadata": {
        "colab": {
          "base_uri": "https://localhost:8080/"
        },
        "id": "5V3r3dZXyWVy",
        "outputId": "732b8986-6861-4c1d-a82a-ad6d6054b59a"
      },
      "execution_count": null,
      "outputs": [
        {
          "output_type": "stream",
          "name": "stdout",
          "text": [
            "IQR da variável price:  74.0\n",
            "Limite superior do price:  240.0\n",
            "Limite inferior do price:  -56.0\n"
          ]
        }
      ]
    },
    {
      "cell_type": "code",
      "source": [
        "# boxplot da variável price antes da limpeza\n",
        "fig, ax = plt.subplots(figsize=(15,3))\n",
        "df_clean.price.plot(kind='box', vert=False);\n",
        "ax.set_title('Dataset Original - price')\n",
        "plt.show()\n",
        "print(\"O Dataset possui {} colunas\".format(df_clean.shape[0]))\n",
        "print(\"{} entradas acima do limite superior\".format(len(df_clean[df_clean.price > sup_price])))\n",
        "print(\"Representam {:.2f}% do Dataset\".format((len(df_clean[df_clean.price > sup_price]) / df_clean.shape[0])*100))"
      ],
      "metadata": {
        "colab": {
          "base_uri": "https://localhost:8080/",
          "height": 278
        },
        "id": "IaRPkL7jzjbE",
        "outputId": "2fc50282-d44c-43f6-88b2-6428d5751915"
      },
      "execution_count": null,
      "outputs": [
        {
          "output_type": "display_data",
          "data": {
            "text/plain": [
              "<Figure size 1080x216 with 1 Axes>"
            ],
            "image/png": "[encoded data removed]"
          },
          "metadata": {
            "needs_background": "light"
          }
        },
        {
          "output_type": "stream",
          "name": "stdout",
          "text": [
            "O Dataset possui 8505 colunas\n",
            "665 entradas acima do limite superior\n",
            "Representam 7.82% do Dataset\n"
          ]
        }
      ]
    },
    {
      "cell_type": "code",
      "source": [
        "# Remoção dos outliers da variável price\n",
        "df_clean.drop(df_clean[df_clean.price > sup_price].index, axis=0, inplace=True)\n",
        "\n",
        "print(\"Volume de dados antes da limpeza: \", df.shape)\n",
        "print(\"Volume de dados após a limpeza: \", df_clean.shape)"
      ],
      "metadata": {
        "colab": {
          "base_uri": "https://localhost:8080/"
        },
        "id": "WILgF4WO0REr",
        "outputId": "50680b5b-f6cf-4169-eaae-b346c974ce25"
      },
      "execution_count": null,
      "outputs": [
        {
          "output_type": "stream",
          "name": "stdout",
          "text": [
            "Volume de dados antes da limpeza:  (8505, 18)\n",
            "Volume de dados após a limpeza:  (7840, 16)\n"
          ]
        }
      ]
    },
    {
      "cell_type": "code",
      "source": [
        "# boxplot da variável price após a limpeza\n",
        "fig, ax = plt.subplots(figsize=(15, 3))\n",
        "df_clean.price.plot(kind='box', vert=False);\n",
        "ax.set_title(\"Dataset Limpo - price\")\n",
        "plt.show()\n",
        "\n",
        "print(\"Tamanho original: {} entradas\".format(df.shape[0]))\n",
        "print(\"Tamanho após a limpeza: {} entradas\".format(df_clean.shape[0]))"
      ],
      "metadata": {
        "colab": {
          "base_uri": "https://localhost:8080/",
          "height": 261
        },
        "id": "SMjztFPN1OWv",
        "outputId": "f242c118-a156-41bf-9a9d-10cd5fec7d53"
      },
      "execution_count": null,
      "outputs": [
        {
          "output_type": "display_data",
          "data": {
            "text/plain": [
              "<Figure size 1080x216 with 1 Axes>"
            ],
            "image/png": "[encoded data removed]"
          },
          "metadata": {
            "needs_background": "light"
          }
        },
        {
          "output_type": "stream",
          "name": "stdout",
          "text": [
            "Tamanho original: 8505 entradas\n",
            "Tamanho após a limpeza: 7840 entradas\n"
          ]
        }
      ]
    },
    {
      "cell_type": "markdown",
      "source": [
        "##### **Limpeza da Variável `minimum_nights`**  "
      ],
      "metadata": {
        "id": "43i9u02o1sk4"
      }
    },
    {
      "cell_type": "code",
      "source": [
        "# identificando os outliers para a variável minimum_nights\n",
        "q1_minimum_nights = df_clean.minimum_nights.quantile(.25)\n",
        "q3_minimum_nights = df_clean.minimum_nights.quantile(.75)\n",
        "IQR_minimum_nights = q3_minimum_nights - q1_minimum_nights\n",
        "print(\"IQR da variável minimum_nights: \", IQR_minimum_nights)\n",
        "\n",
        "# definindo os limites                                       \n",
        "sup_minimum_nights = q3_minimum_nights + 1.5 * IQR_minimum_nights\n",
        "inf_minimum_nights = q1_minimum_nights - 1.5 * IQR_minimum_nights\n",
        "\n",
        "print(\"Limite superior de minimum_nights: \", sup_minimum_nights)\n",
        "print(\"Limite inferior de minimum_nights: \", inf_minimum_nights)"
      ],
      "metadata": {
        "colab": {
          "base_uri": "https://localhost:8080/"
        },
        "id": "RxbJxph02A8B",
        "outputId": "ad6772db-46e3-4b44-976b-ec4dc93b709d"
      },
      "execution_count": null,
      "outputs": [
        {
          "output_type": "stream",
          "name": "stdout",
          "text": [
            "IQR da variável minimum_nights:  2.0\n",
            "Limite superior de minimum_nights:  6.0\n",
            "Limite inferior de minimum_nights:  -2.0\n"
          ]
        }
      ]
    },
    {
      "cell_type": "code",
      "source": [
        "# boxplot da variável minimum_nights antes da limpeza\n",
        "fig, ax = plt.subplots(figsize=(15,3))\n",
        "df_clean.minimum_nights.plot(kind='box', vert=False);\n",
        "ax.set_title(\"Dataset Original - minimum nights\")\n",
        "plt.show()\n",
        "print(\"O Dataset possui {} entradas\".format(df_clean.shape[0]))\n",
        "print(\"{} entradas acima do limite superior\".format(len(df_clean[df_clean.minimum_nights > sup_minimum_nights])))\n",
        "print(\"Representam {:.2f}% do dataset\".format((len(df_clean[df_clean.minimum_nights > sup_minimum_nights]) / df_clean.shape[0]) *100))"
      ],
      "metadata": {
        "colab": {
          "base_uri": "https://localhost:8080/",
          "height": 278
        },
        "id": "TW8dAcYp2Sl9",
        "outputId": "78a415db-c608-4d19-d5a0-dc987e002c5c"
      },
      "execution_count": null,
      "outputs": [
        {
          "output_type": "display_data",
          "data": {
            "text/plain": [
              "<Figure size 1080x216 with 1 Axes>"
            ],
            "image/png": "[encoded data removed]"
          },
          "metadata": {
            "needs_background": "light"
          }
        },
        {
          "output_type": "stream",
          "name": "stdout",
          "text": [
            "O Dataset possui 7840 entradas\n",
            "535 entradas acima do limite superior\n",
            "Representam 6.82% do dataset\n"
          ]
        }
      ]
    },
    {
      "cell_type": "code",
      "source": [
        "# Remoção dos outliers da variável minimum_nights\n",
        "print(\"Volume de dados antes da limpeza: \", df_clean.shape)\n",
        "df_clean.drop(df_clean[df_clean.minimum_nights > sup_minimum_nights].index, axis=0, inplace=True)\n",
        "\n",
        "print(\"Volume de dados após a limpeza: \", df_clean.shape)"
      ],
      "metadata": {
        "colab": {
          "base_uri": "https://localhost:8080/"
        },
        "id": "fxb8BGpr30DT",
        "outputId": "080315ff-1a3f-407f-d80a-7f77f417edc0"
      },
      "execution_count": null,
      "outputs": [
        {
          "output_type": "stream",
          "name": "stdout",
          "text": [
            "Volume de dados antes da limpeza:  (7840, 16)\n",
            "Volume de dados após a limpeza:  (7305, 16)\n"
          ]
        }
      ]
    },
    {
      "cell_type": "code",
      "source": [
        "# boxplot da variável minimum_nights após a limpeza\n",
        "fig, ax = plt.subplots(figsize=(15, 3))\n",
        "df_clean.minimum_nights.plot(kind='box', vert=False);\n",
        "ax.set_title(\"Dataset Limpo - minimum_nights\")\n",
        "plt.show()\n",
        "\n",
        "print(\"Tamanho original: {} entradas\".format(df.shape[0]))\n",
        "print(\"Tamanho após a limpeza: {} entradas\".format(df_clean.shape[0]))"
      ],
      "metadata": {
        "colab": {
          "base_uri": "https://localhost:8080/",
          "height": 261
        },
        "id": "6-T3ymfg4WPo",
        "outputId": "aa12e2ae-3ebb-45f8-9ade-4718d25e35b1"
      },
      "execution_count": null,
      "outputs": [
        {
          "output_type": "display_data",
          "data": {
            "text/plain": [
              "<Figure size 1080x216 with 1 Axes>"
            ],
            "image/png": "[encoded data removed]"
          },
          "metadata": {
            "needs_background": "light"
          }
        },
        {
          "output_type": "stream",
          "name": "stdout",
          "text": [
            "Tamanho original: 8505 entradas\n",
            "Tamanho após a limpeza: 7305 entradas\n"
          ]
        }
      ]
    },
    {
      "cell_type": "markdown",
      "source": [
        "#### **Distribuição e Resumo Estatístico das Variáveis Após a Limpeza**"
      ],
      "metadata": {
        "id": "tK4Y-xAn5CVw"
      }
    },
    {
      "cell_type": "code",
      "source": [
        "# verificando as distribuições \n",
        "df_clean.hist(bins=15, figsize=(15, 10), color='green');"
      ],
      "metadata": {
        "colab": {
          "base_uri": "https://localhost:8080/",
          "height": 607
        },
        "id": "oMKm34WW5YUA",
        "outputId": "c831ea8e-ecaf-496e-f073-23df0f7f1d11"
      },
      "execution_count": null,
      "outputs": [
        {
          "output_type": "display_data",
          "data": {
            "text/plain": [
              "<Figure size 1080x720 with 12 Axes>"
            ],
            "image/png": "[encoded data removed]"
          },
          "metadata": {
            "needs_background": "light"
          }
        }
      ]
    },
    {
      "cell_type": "code",
      "source": [
        "# distribuição estatística dos dados limpos\n",
        "df_clean[['price', 'minimum_nights']].describe()"
      ],
      "metadata": {
        "colab": {
          "base_uri": "https://localhost:8080/",
          "height": 297
        },
        "id": "zjXYAkLz6m7_",
        "outputId": "73bf3f98-9043-4df4-89c9-113e7097e93c"
      },
      "execution_count": null,
      "outputs": [
        {
          "output_type": "execute_result",
          "data": {
            "text/plain": [
              "             price  minimum_nights\n",
              "count  7305.000000     7305.000000\n",
              "mean     89.319097        2.498700\n",
              "std      48.221944        1.292632\n",
              "min       9.000000        1.000000\n",
              "25%      54.000000        1.000000\n",
              "50%      80.000000        2.000000\n",
              "75%     114.000000        3.000000\n",
              "max     240.000000        6.000000"
            ],
            "text/html": [
              "\n",
              "  <div id=\"df-ede41733-e2ec-4201-94c2-9bda09327be4\">\n",
              "    <div class=\"colab-df-container\">\n",
              "      <div>\n",
              "<style scoped>\n",
              "    .dataframe tbody tr th:only-of-type {\n",
              "        vertical-align: middle;\n",
              "    }\n",
              "\n",
              "    .dataframe tbody tr th {\n",
              "        vertical-align: top;\n",
              "    }\n",
              "\n",
              "    .dataframe thead th {\n",
              "        text-align: right;\n",
              "    }\n",
              "</style>\n",
              "<table border=\"1\" class=\"dataframe\">\n",
              "  <thead>\n",
              "    <tr style=\"text-align: right;\">\n",
              "      <th></th>\n",
              "      <th>price</th>\n",
              "      <th>minimum_nights</th>\n",
              "    </tr>\n",
              "  </thead>\n",
              "  <tbody>\n",
              "    <tr>\n",
              "      <th>count</th>\n",
              "      <td>7305.000000</td>\n",
              "      <td>7305.000000</td>\n",
              "    </tr>\n",
              "    <tr>\n",
              "      <th>mean</th>\n",
              "      <td>89.319097</td>\n",
              "      <td>2.498700</td>\n",
              "    </tr>\n",
              "    <tr>\n",
              "      <th>std</th>\n",
              "      <td>48.221944</td>\n",
              "      <td>1.292632</td>\n",
              "    </tr>\n",
              "    <tr>\n",
              "      <th>min</th>\n",
              "      <td>9.000000</td>\n",
              "      <td>1.000000</td>\n",
              "    </tr>\n",
              "    <tr>\n",
              "      <th>25%</th>\n",
              "      <td>54.000000</td>\n",
              "      <td>1.000000</td>\n",
              "    </tr>\n",
              "    <tr>\n",
              "      <th>50%</th>\n",
              "      <td>80.000000</td>\n",
              "      <td>2.000000</td>\n",
              "    </tr>\n",
              "    <tr>\n",
              "      <th>75%</th>\n",
              "      <td>114.000000</td>\n",
              "      <td>3.000000</td>\n",
              "    </tr>\n",
              "    <tr>\n",
              "      <th>max</th>\n",
              "      <td>240.000000</td>\n",
              "      <td>6.000000</td>\n",
              "    </tr>\n",
              "  </tbody>\n",
              "</table>\n",
              "</div>\n",
              "      <button class=\"colab-df-convert\" onclick=\"convertToInteractive('df-ede41733-e2ec-4201-94c2-9bda09327be4')\"\n",
              "              title=\"Convert this dataframe to an interactive table.\"\n",
              "              style=\"display:none;\">\n",
              "        \n",
              "  <svg xmlns=\"http://www.w3.org/2000/svg\" height=\"24px\"viewBox=\"0 0 24 24\"\n",
              "       width=\"24px\">\n",
              "    <path d=\"M0 0h24v24H0V0z\" fill=\"none\"/>\n",
              "    <path d=\"M18.56 5.44l.94 2.06.94-2.06 2.06-.94-2.06-.94-.94-2.06-.94 2.06-2.06.94zm-11 1L8.5 8.5l.94-2.06 2.06-.94-2.06-.94L8.5 2.5l-.94 2.06-2.06.94zm10 10l.94 2.06.94-2.06 2.06-.94-2.06-.94-.94-2.06-.94 2.06-2.06.94z\"/><path d=\"M17.41 7.96l-1.37-1.37c-.4-.4-.92-.59-1.43-.59-.52 0-1.04.2-1.43.59L10.3 9.45l-7.72 7.72c-.78.78-.78 2.05 0 2.83L4 21.41c.39.39.9.59 1.41.59.51 0 1.02-.2 1.41-.59l7.78-7.78 2.81-2.81c.8-.78.8-2.07 0-2.86zM5.41 20L4 18.59l7.72-7.72 1.47 1.35L5.41 20z\"/>\n",
              "  </svg>\n",
              "      </button>\n",
              "      \n",
              "  <style>\n",
              "    .colab-df-container {\n",
              "      display:flex;\n",
              "      flex-wrap:wrap;\n",
              "      gap: 12px;\n",
              "    }\n",
              "\n",
              "    .colab-df-convert {\n",
              "      background-color: #E8F0FE;\n",
              "      border: none;\n",
              "      border-radius: 50%;\n",
              "      cursor: pointer;\n",
              "      display: none;\n",
              "      fill: #1967D2;\n",
              "      height: 32px;\n",
              "      padding: 0 0 0 0;\n",
              "      width: 32px;\n",
              "    }\n",
              "\n",
              "    .colab-df-convert:hover {\n",
              "      background-color: #E2EBFA;\n",
              "      box-shadow: 0px 1px 2px rgba(60, 64, 67, 0.3), 0px 1px 3px 1px rgba(60, 64, 67, 0.15);\n",
              "      fill: #174EA6;\n",
              "    }\n",
              "\n",
              "    [theme=dark] .colab-df-convert {\n",
              "      background-color: #3B4455;\n",
              "      fill: #D2E3FC;\n",
              "    }\n",
              "\n",
              "    [theme=dark] .colab-df-convert:hover {\n",
              "      background-color: #434B5C;\n",
              "      box-shadow: 0px 1px 3px 1px rgba(0, 0, 0, 0.15);\n",
              "      filter: drop-shadow(0px 1px 2px rgba(0, 0, 0, 0.3));\n",
              "      fill: #FFFFFF;\n",
              "    }\n",
              "  </style>\n",
              "\n",
              "      <script>\n",
              "        const buttonEl =\n",
              "          document.querySelector('#df-ede41733-e2ec-4201-94c2-9bda09327be4 button.colab-df-convert');\n",
              "        buttonEl.style.display =\n",
              "          google.colab.kernel.accessAllowed ? 'block' : 'none';\n",
              "\n",
              "        async function convertToInteractive(key) {\n",
              "          const element = document.querySelector('#df-ede41733-e2ec-4201-94c2-9bda09327be4');\n",
              "          const dataTable =\n",
              "            await google.colab.kernel.invokeFunction('convertToInteractive',\n",
              "                                                     [key], {});\n",
              "          if (!dataTable) return;\n",
              "\n",
              "          const docLinkHtml = 'Like what you see? Visit the ' +\n",
              "            '<a target=\"_blank\" href=https://colab.research.google.com/notebooks/data_table.ipynb>data table notebook</a>'\n",
              "            + ' to learn more about interactive tables.';\n",
              "          element.innerHTML = '';\n",
              "          dataTable['output_type'] = 'display_data';\n",
              "          await google.colab.output.renderOutput(dataTable, element);\n",
              "          const docLink = document.createElement('div');\n",
              "          docLink.innerHTML = docLinkHtml;\n",
              "          element.appendChild(docLink);\n",
              "        }\n",
              "      </script>\n",
              "    </div>\n",
              "  </div>\n",
              "  "
            ]
          },
          "metadata": {},
          "execution_count": 19
        }
      ]
    },
    {
      "cell_type": "markdown",
      "metadata": {
        "id": "7x4aw1j5wNmn"
      },
      "source": [
        "### **Q4. Qual a média dos preços de aluguel?**"
      ]
    },
    {
      "cell_type": "code",
      "metadata": {
        "id": "ff-8gUahLk-C",
        "colab": {
          "base_uri": "https://localhost:8080/"
        },
        "outputId": "d786a315-5753-4640-caf1-2faa73e3a46d"
      },
      "source": [
        "# ver a média da coluna price antes da limpeza\n",
        "print(\"Média dos preços de aluguel antes da limpeza: US$ {:.2f}\".format(df.price.mean()))\n",
        "\n",
        "# ver a média da coluna price após a limpeza\n",
        "print(\"Média dos preços de aluguel após a limpeza: US$ {:.2f}\".format(df_clean.price.mean()))\n"
      ],
      "execution_count": null,
      "outputs": [
        {
          "output_type": "stream",
          "name": "stdout",
          "text": [
            "Média dos preços de aluguel antes da limpeza: US$ 114.26\n",
            "Média dos preços de aluguel após a limpeza: US$ 89.32\n"
          ]
        }
      ]
    },
    {
      "cell_type": "markdown",
      "metadata": {
        "id": "IXn2oIo5qx-w"
      },
      "source": [
        "### **Q4. Qual a correlação existente entre as variáveis**"
      ]
    },
    {
      "cell_type": "code",
      "metadata": {
        "id": "x2ayzBajqxyd",
        "colab": {
          "base_uri": "https://localhost:8080/",
          "height": 235
        },
        "outputId": "bc681383-dc15-4a4d-a903-e3f3f15b4428"
      },
      "source": [
        "# criar uma matriz de correlação\n",
        "corr = df_clean[['price', 'minimum_nights', 'number_of_reviews', 'reviews_per_month',  \n",
        "                 'calculated_host_listings_count', 'availability_365']].corr()\n",
        "\n",
        "# mostrar a matriz de correlação\n",
        "display(corr)"
      ],
      "execution_count": null,
      "outputs": [
        {
          "output_type": "display_data",
          "data": {
            "text/plain": [
              "                                   price  minimum_nights  number_of_reviews  \\\n",
              "price                           1.000000        0.088039          -0.129435   \n",
              "minimum_nights                  0.088039        1.000000           0.033872   \n",
              "number_of_reviews              -0.129435        0.033872           1.000000   \n",
              "reviews_per_month              -0.145780       -0.152877           0.345533   \n",
              "calculated_host_listings_count  0.195045       -0.044983          -0.151116   \n",
              "availability_365                0.103175       -0.060278          -0.049471   \n",
              "\n",
              "                                reviews_per_month  \\\n",
              "price                                   -0.145780   \n",
              "minimum_nights                          -0.152877   \n",
              "number_of_reviews                        0.345533   \n",
              "reviews_per_month                        1.000000   \n",
              "calculated_host_listings_count          -0.093104   \n",
              "availability_365                         0.013160   \n",
              "\n",
              "                                calculated_host_listings_count  \\\n",
              "price                                                 0.195045   \n",
              "minimum_nights                                       -0.044983   \n",
              "number_of_reviews                                    -0.151116   \n",
              "reviews_per_month                                    -0.093104   \n",
              "calculated_host_listings_count                        1.000000   \n",
              "availability_365                                      0.188944   \n",
              "\n",
              "                                availability_365  \n",
              "price                                   0.103175  \n",
              "minimum_nights                         -0.060278  \n",
              "number_of_reviews                      -0.049471  \n",
              "reviews_per_month                       0.013160  \n",
              "calculated_host_listings_count          0.188944  \n",
              "availability_365                        1.000000  "
            ],
            "text/html": [
              "\n",
              "  <div id=\"df-8aa48f70-359d-483b-8bc0-4787a9ffa46a\">\n",
              "    <div class=\"colab-df-container\">\n",
              "      <div>\n",
              "<style scoped>\n",
              "    .dataframe tbody tr th:only-of-type {\n",
              "        vertical-align: middle;\n",
              "    }\n",
              "\n",
              "    .dataframe tbody tr th {\n",
              "        vertical-align: top;\n",
              "    }\n",
              "\n",
              "    .dataframe thead th {\n",
              "        text-align: right;\n",
              "    }\n",
              "</style>\n",
              "<table border=\"1\" class=\"dataframe\">\n",
              "  <thead>\n",
              "    <tr style=\"text-align: right;\">\n",
              "      <th></th>\n",
              "      <th>price</th>\n",
              "      <th>minimum_nights</th>\n",
              "      <th>number_of_reviews</th>\n",
              "      <th>reviews_per_month</th>\n",
              "      <th>calculated_host_listings_count</th>\n",
              "      <th>availability_365</th>\n",
              "    </tr>\n",
              "  </thead>\n",
              "  <tbody>\n",
              "    <tr>\n",
              "      <th>price</th>\n",
              "      <td>1.000000</td>\n",
              "      <td>0.088039</td>\n",
              "      <td>-0.129435</td>\n",
              "      <td>-0.145780</td>\n",
              "      <td>0.195045</td>\n",
              "      <td>0.103175</td>\n",
              "    </tr>\n",
              "    <tr>\n",
              "      <th>minimum_nights</th>\n",
              "      <td>0.088039</td>\n",
              "      <td>1.000000</td>\n",
              "      <td>0.033872</td>\n",
              "      <td>-0.152877</td>\n",
              "      <td>-0.044983</td>\n",
              "      <td>-0.060278</td>\n",
              "    </tr>\n",
              "    <tr>\n",
              "      <th>number_of_reviews</th>\n",
              "      <td>-0.129435</td>\n",
              "      <td>0.033872</td>\n",
              "      <td>1.000000</td>\n",
              "      <td>0.345533</td>\n",
              "      <td>-0.151116</td>\n",
              "      <td>-0.049471</td>\n",
              "    </tr>\n",
              "    <tr>\n",
              "      <th>reviews_per_month</th>\n",
              "      <td>-0.145780</td>\n",
              "      <td>-0.152877</td>\n",
              "      <td>0.345533</td>\n",
              "      <td>1.000000</td>\n",
              "      <td>-0.093104</td>\n",
              "      <td>0.013160</td>\n",
              "    </tr>\n",
              "    <tr>\n",
              "      <th>calculated_host_listings_count</th>\n",
              "      <td>0.195045</td>\n",
              "      <td>-0.044983</td>\n",
              "      <td>-0.151116</td>\n",
              "      <td>-0.093104</td>\n",
              "      <td>1.000000</td>\n",
              "      <td>0.188944</td>\n",
              "    </tr>\n",
              "    <tr>\n",
              "      <th>availability_365</th>\n",
              "      <td>0.103175</td>\n",
              "      <td>-0.060278</td>\n",
              "      <td>-0.049471</td>\n",
              "      <td>0.013160</td>\n",
              "      <td>0.188944</td>\n",
              "      <td>1.000000</td>\n",
              "    </tr>\n",
              "  </tbody>\n",
              "</table>\n",
              "</div>\n",
              "      <button class=\"colab-df-convert\" onclick=\"convertToInteractive('df-8aa48f70-359d-483b-8bc0-4787a9ffa46a')\"\n",
              "              title=\"Convert this dataframe to an interactive table.\"\n",
              "              style=\"display:none;\">\n",
              "        \n",
              "  <svg xmlns=\"http://www.w3.org/2000/svg\" height=\"24px\"viewBox=\"0 0 24 24\"\n",
              "       width=\"24px\">\n",
              "    <path d=\"M0 0h24v24H0V0z\" fill=\"none\"/>\n",
              "    <path d=\"M18.56 5.44l.94 2.06.94-2.06 2.06-.94-2.06-.94-.94-2.06-.94 2.06-2.06.94zm-11 1L8.5 8.5l.94-2.06 2.06-.94-2.06-.94L8.5 2.5l-.94 2.06-2.06.94zm10 10l.94 2.06.94-2.06 2.06-.94-2.06-.94-.94-2.06-.94 2.06-2.06.94z\"/><path d=\"M17.41 7.96l-1.37-1.37c-.4-.4-.92-.59-1.43-.59-.52 0-1.04.2-1.43.59L10.3 9.45l-7.72 7.72c-.78.78-.78 2.05 0 2.83L4 21.41c.39.39.9.59 1.41.59.51 0 1.02-.2 1.41-.59l7.78-7.78 2.81-2.81c.8-.78.8-2.07 0-2.86zM5.41 20L4 18.59l7.72-7.72 1.47 1.35L5.41 20z\"/>\n",
              "  </svg>\n",
              "      </button>\n",
              "      \n",
              "  <style>\n",
              "    .colab-df-container {\n",
              "      display:flex;\n",
              "      flex-wrap:wrap;\n",
              "      gap: 12px;\n",
              "    }\n",
              "\n",
              "    .colab-df-convert {\n",
              "      background-color: #E8F0FE;\n",
              "      border: none;\n",
              "      border-radius: 50%;\n",
              "      cursor: pointer;\n",
              "      display: none;\n",
              "      fill: #1967D2;\n",
              "      height: 32px;\n",
              "      padding: 0 0 0 0;\n",
              "      width: 32px;\n",
              "    }\n",
              "\n",
              "    .colab-df-convert:hover {\n",
              "      background-color: #E2EBFA;\n",
              "      box-shadow: 0px 1px 2px rgba(60, 64, 67, 0.3), 0px 1px 3px 1px rgba(60, 64, 67, 0.15);\n",
              "      fill: #174EA6;\n",
              "    }\n",
              "\n",
              "    [theme=dark] .colab-df-convert {\n",
              "      background-color: #3B4455;\n",
              "      fill: #D2E3FC;\n",
              "    }\n",
              "\n",
              "    [theme=dark] .colab-df-convert:hover {\n",
              "      background-color: #434B5C;\n",
              "      box-shadow: 0px 1px 3px 1px rgba(0, 0, 0, 0.15);\n",
              "      filter: drop-shadow(0px 1px 2px rgba(0, 0, 0, 0.3));\n",
              "      fill: #FFFFFF;\n",
              "    }\n",
              "  </style>\n",
              "\n",
              "      <script>\n",
              "        const buttonEl =\n",
              "          document.querySelector('#df-8aa48f70-359d-483b-8bc0-4787a9ffa46a button.colab-df-convert');\n",
              "        buttonEl.style.display =\n",
              "          google.colab.kernel.accessAllowed ? 'block' : 'none';\n",
              "\n",
              "        async function convertToInteractive(key) {\n",
              "          const element = document.querySelector('#df-8aa48f70-359d-483b-8bc0-4787a9ffa46a');\n",
              "          const dataTable =\n",
              "            await google.colab.kernel.invokeFunction('convertToInteractive',\n",
              "                                                     [key], {});\n",
              "          if (!dataTable) return;\n",
              "\n",
              "          const docLinkHtml = 'Like what you see? Visit the ' +\n",
              "            '<a target=\"_blank\" href=https://colab.research.google.com/notebooks/data_table.ipynb>data table notebook</a>'\n",
              "            + ' to learn more about interactive tables.';\n",
              "          element.innerHTML = '';\n",
              "          dataTable['output_type'] = 'display_data';\n",
              "          await google.colab.output.renderOutput(dataTable, element);\n",
              "          const docLink = document.createElement('div');\n",
              "          docLink.innerHTML = docLinkHtml;\n",
              "          element.appendChild(docLink);\n",
              "        }\n",
              "      </script>\n",
              "    </div>\n",
              "  </div>\n",
              "  "
            ]
          },
          "metadata": {}
        }
      ]
    },
    {
      "cell_type": "code",
      "metadata": {
        "id": "91UujDr6ueqE",
        "colab": {
          "base_uri": "https://localhost:8080/",
          "height": 411
        },
        "outputId": "6e83c6a5-2c63-4b05-9934-0e4c875ba459"
      },
      "source": [
        "# plotar um heatmap a partir das correlações\n",
        "sns.heatmap(corr, cmap='RdBu', square=True, fmt='.2f', linecolor='white', annot=True);"
      ],
      "execution_count": null,
      "outputs": [
        {
          "output_type": "display_data",
          "data": {
            "text/plain": [
              "<Figure size 432x288 with 2 Axes>"
            ],
            "image/png": "[encoded data removed]"
          },
          "metadata": {
            "needs_background": "light"
          }
        }
      ]
    },
    {
      "cell_type": "markdown",
      "metadata": {
        "id": "7b6RMWpuHKN-"
      },
      "source": [
        "### **Q5. Qual o tipo de imóvel mais alugado no Airbnb?**\n",
        "\n",
        "A coluna da variável `room_type` indica o tipo de locação que está anunciada no Airbnb. Se você já alugou no site, sabe que existem opções de apartamentos/casas inteiras, apenas o aluguel de um quarto ou mesmo dividir o quarto com outras pessoas."
      ]
    },
    {
      "cell_type": "code",
      "metadata": {
        "id": "ueLPNWvPHgfB",
        "colab": {
          "base_uri": "https://localhost:8080/"
        },
        "outputId": "2e8aa5bb-24ce-4f32-fa46-70546e87db59"
      },
      "source": [
        "# mostrar a quantidade de cada tipo de imóvel disponível\n",
        "df_clean.room_type.value_counts()"
      ],
      "execution_count": null,
      "outputs": [
        {
          "output_type": "execute_result",
          "data": {
            "text/plain": [
              "Entire home/apt    4740\n",
              "Private room       2298\n",
              "Shared room         159\n",
              "Hotel room          108\n",
              "Name: room_type, dtype: int64"
            ]
          },
          "metadata": {},
          "execution_count": 21
        }
      ]
    },
    {
      "cell_type": "code",
      "metadata": {
        "id": "EvwoO-XAHhIm",
        "colab": {
          "base_uri": "https://localhost:8080/"
        },
        "outputId": "4a262ac7-f8f9-4af6-d2c9-264ad5bb110a"
      },
      "source": [
        "# mostrar a porcentagem de cada tipo de imóvel disponível\n",
        "(df_clean.room_type.value_counts() / df_clean.shape[0]) * 100"
      ],
      "execution_count": null,
      "outputs": [
        {
          "output_type": "execute_result",
          "data": {
            "text/plain": [
              "Entire home/apt    64.887064\n",
              "Private room       31.457906\n",
              "Shared room         2.176591\n",
              "Hotel room          1.478439\n",
              "Name: room_type, dtype: float64"
            ]
          },
          "metadata": {},
          "execution_count": 22
        }
      ]
    },
    {
      "cell_type": "markdown",
      "metadata": {
        "id": "MFa5NbnLJMcd"
      },
      "source": [
        "### **Q6. Qual a localidade mais cara do dataset?**\n",
        "\n"
      ]
    },
    {
      "cell_type": "code",
      "metadata": {
        "id": "MD_xa143JZpi",
        "colab": {
          "base_uri": "https://localhost:8080/"
        },
        "outputId": "c9404982-10cb-48e5-f6c0-730f685b215d"
      },
      "source": [
        "# ver preços por bairros, na média\n",
        "df_clean.groupby(['neighbourhood']).price.mean().sort_values(ascending=False)[:10]"
      ],
      "execution_count": null,
      "outputs": [
        {
          "output_type": "execute_result",
          "data": {
            "text/plain": [
              "neighbourhood\n",
              "Ghasri         149.384615\n",
              "Sannat         133.000000\n",
              "Gharb          127.703704\n",
              "San Lawrenz    116.979167\n",
              "Xewkija        116.302326\n",
              "Kercem         114.184211\n",
              "Valletta       113.205742\n",
              "Xaghra         111.468599\n",
              "Kalkara        110.041667\n",
              "Iklin          107.960000\n",
              "Name: price, dtype: float64"
            ]
          },
          "metadata": {},
          "execution_count": 23
        }
      ]
    },
    {
      "cell_type": "code",
      "metadata": {
        "id": "UxVJqJ_3W59I",
        "colab": {
          "base_uri": "https://localhost:8080/",
          "height": 471
        },
        "outputId": "d52f4a1f-fd94-4587-975f-24c7d9a07046"
      },
      "source": [
        "# plotar os imóveis pela latitude-longitude\n",
        "df_clean.plot(kind='scatter', x='longitude', y='latitude', alpha=0.4, c=df_clean['price'], s=8, \n",
        "              cmap=plt.get_cmap('jet'), figsize=(12,8));"
      ],
      "execution_count": null,
      "outputs": [
        {
          "output_type": "display_data",
          "data": {
            "text/plain": [
              "<Figure size 864x576 with 2 Axes>"
            ],
            "image/png": "[encoded data removed]"
          },
          "metadata": {
            "needs_background": "light"
          }
        }
      ]
    },
    {
      "cell_type": "markdown",
      "metadata": {
        "id": "vTneAMRUYvr1"
      },
      "source": [
        "### **Q7. Qual é a média do mínimo de noites para aluguel (minimum_nights)?**"
      ]
    },
    {
      "cell_type": "code",
      "metadata": {
        "id": "_VzNhrEgY82N",
        "colab": {
          "base_uri": "https://localhost:8080/"
        },
        "outputId": "eeb10015-a456-4c44-f620-ae53a69ce9bf"
      },
      "source": [
        "# ver a média da coluna `minimum_nights``\n",
        "print(\"Média da coluna minimum_nights: {}\".format(df_clean.minimum_nights.mean()))"
      ],
      "execution_count": null,
      "outputs": [
        {
          "output_type": "stream",
          "name": "stdout",
          "text": [
            "Média da coluna minimum_nights: 2.4986995208761122\n"
          ]
        }
      ]
    },
    {
      "cell_type": "markdown",
      "metadata": {
        "id": "GkvAg623RjoR"
      },
      "source": [
        "## Conclusões\n"
      ]
    },
    {
      "cell_type": "markdown",
      "metadata": {
        "id": "rbZ3Hsy9Ypw8"
      },
      "source": [
        "\n",
        "O *dataset* utilizado é uma versão resumida do conjunto de dados disponíveis no Airbnb, por este motivo ele é adequado para uma análise inicial. \n",
        "\n",
        "Dito isso, concluimos que a nossa análise inicial possibilitou a identificação de *outliers* no *dataset* e a avaliação das distorções causadas por eles na análise exploratória de dados. \n",
        "\n",
        "Notamos que os métodos utilizados para a limpeza dos dados (valores ausentes e *outliers*) foram eficientes e reduziram as distorções nos resultados das análises. \n",
        "\n",
        "Os meus conhecimentos a respeito de Malta, as informações obtidas por pesquisas no Google, a lógica e o senso comum, permitem-me concluir que os resultados obtidos nas análises exploratórias são consistentes e razoáveis. Listo abaixo os resultados que reforçam esta tese.\n",
        "\n",
        "*   O valor 2 para a média do mínimo de noites para aluguel é razoável, pois geralmente Malta é um destino turístico;\n",
        "*   Os bairros indicados como detentores dos imóveis, em média, mais caros,  estão localizados na ilha de Gozo, que é uma famosa região de Malta onde há muitas atrações turísticas. Além disso, trata-se de uma região remota, acessível via barco. \n",
        "\n",
        "\n",
        "\n",
        "\n",
        "\n",
        "\n",
        "\n"
      ]
    }
  ]
}